{
 "cells": [
  {
   "cell_type": "code",
   "execution_count": null,
   "metadata": {},
   "outputs": [],
   "source": [
    "import matplotlib.pyplot as plt\n",
    "import pandas as pd\n",
    "import numpy as np\n",
    "from scipy.stats import chi2_contingency\n",
    "\n",
    "# Load the CSV file into a Pandas DataFrame\n",
    "healthcare_diabetes_df = pd.read_csv(r'C:\\Users\\leors\\Project_3\\Healthcare-Diabetes.csv')\n"
   ]
  },
  {
   "cell_type": "code",
   "execution_count": null,
   "metadata": {},
   "outputs": [],
   "source": [
    "healthcare_diabetes_df"
   ]
  },
  {
   "cell_type": "code",
   "execution_count": null,
   "metadata": {},
   "outputs": [],
   "source": [
    "# Display the first few rows of the DataFrame to examine the data\n",
    "healthcare_diabetes_df.head()"
   ]
  },
  {
   "cell_type": "code",
   "execution_count": null,
   "metadata": {},
   "outputs": [],
   "source": [
    "duplicates = healthcare_diabetes_df.duplicated(keep='first') \n",
    "duplicates"
   ]
  },
  {
   "cell_type": "code",
   "execution_count": null,
   "metadata": {},
   "outputs": [],
   "source": [
    "df_no_duplicates = healthcare_diabetes_df.drop_duplicates()\n",
    "df_no_duplicates"
   ]
  },
  {
   "cell_type": "code",
   "execution_count": null,
   "metadata": {},
   "outputs": [],
   "source": [
    "unique_ids_count = healthcare_diabetes_df['Id'].nunique()\n",
    "\n",
    "print(unique_ids_count)"
   ]
  },
  {
   "cell_type": "code",
   "execution_count": null,
   "metadata": {},
   "outputs": [],
   "source": [
    "average_age = healthcare_diabetes_df['Age'].mean()\n",
    "print(average_age)"
   ]
  },
  {
   "cell_type": "code",
   "execution_count": null,
   "metadata": {},
   "outputs": [],
   "source": [
    "unique_age = healthcare_diabetes_df['Age'].nunique()\n",
    "print(unique_age)"
   ]
  },
  {
   "cell_type": "code",
   "execution_count": null,
   "metadata": {},
   "outputs": [],
   "source": [
    "healthcare_diabetes_df\n"
   ]
  },
  {
   "cell_type": "code",
   "execution_count": null,
   "metadata": {},
   "outputs": [],
   "source": [
    "# Drop the first column (assuming it's named 'ID', you should replace with the actual column name)\n",
    "healthcare_diabetes_df_drop_uniqueid = healthcare_diabetes_df.iloc[:, 1:]\n",
    "healthcare_diabetes_df_drop_uniqueid"
   ]
  },
  {
   "cell_type": "code",
   "execution_count": 14,
   "metadata": {},
   "outputs": [
    {
     "name": "stdout",
     "output_type": "stream",
     "text": [
      "No duplicate rows found in the original DataFrame.\n"
     ]
    }
   ],
   "source": [
    "# Find duplicate rows in the original DataFrame (healthcare_diabetes_df)\n",
    "duplicate_rows = healthcare_diabetes_df[healthcare_diabetes_df.duplicated(keep='first')]\n",
    "\n",
    "if not duplicate_rows.empty:\n",
    "    print(\"Duplicate rows found in the original DataFrame:\")\n",
    "    print(duplicate_rows)\n",
    "else:\n",
    "    print(\"No duplicate rows found in the original DataFrame.\")"
   ]
  },
  {
   "cell_type": "code",
   "execution_count": 15,
   "metadata": {},
   "outputs": [
    {
     "name": "stdout",
     "output_type": "stream",
     "text": [
      "Duplicate rows found in the modified DataFrame:\n",
      "      Pregnancies  Glucose  BloodPressure  SkinThickness  Insulin   BMI  \\\n",
      "769             0       84             82             31      125  38.2   \n",
      "770             0      145              0              0        0  44.2   \n",
      "771             0      135             68             42      250  42.3   \n",
      "772             1      139             62             41      480  40.7   \n",
      "773             0      173             78             32      265  46.5   \n",
      "...           ...      ...            ...            ...      ...   ...   \n",
      "2763            2       75             64             24       55  29.7   \n",
      "2764            8      179             72             42      130  32.7   \n",
      "2765            6       85             78              0        0  31.2   \n",
      "2766            0      129            110             46      130  67.1   \n",
      "2767            2       81             72             15       76  30.1   \n",
      "\n",
      "      DiabetesPedigreeFunction  Age  Outcome  \n",
      "769                      0.233   23        0  \n",
      "770                      0.630   31        1  \n",
      "771                      0.365   24        1  \n",
      "772                      0.536   21        0  \n",
      "773                      1.159   58        0  \n",
      "...                        ...  ...      ...  \n",
      "2763                     0.370   33        0  \n",
      "2764                     0.719   36        1  \n",
      "2765                     0.382   42        0  \n",
      "2766                     0.319   26        1  \n",
      "2767                     0.547   25        0  \n",
      "\n",
      "[1990 rows x 9 columns]\n"
     ]
    }
   ],
   "source": [
    "# Find duplicate rows in the modified DataFrame (healthcare_diabetes_df_drop_uniqueid)\n",
    "duplicate_rows_modified = healthcare_diabetes_df_drop_uniqueid[healthcare_diabetes_df_drop_uniqueid.duplicated(keep='first')]\n",
    "\n",
    "if not duplicate_rows_modified.empty:\n",
    "    print(\"Duplicate rows found in the modified DataFrame:\")\n",
    "    print(duplicate_rows_modified)\n",
    "else:\n",
    "    print(\"No duplicate rows found in the modified DataFrame.\")"
   ]
  }
 ],
 "metadata": {
  "kernelspec": {
   "display_name": "Python 3",
   "language": "python",
   "name": "python3"
  },
  "language_info": {
   "codemirror_mode": {
    "name": "ipython",
    "version": 3
   },
   "file_extension": ".py",
   "mimetype": "text/x-python",
   "name": "python",
   "nbconvert_exporter": "python",
   "pygments_lexer": "ipython3",
   "version": "3.11.3"
  },
  "vscode": {
   "interpreter": {
    "hash": "29056445512b2b2c7347c484b4b8e126ae64f8d26b6506f41dfc6784227ca601"
   }
  }
 },
 "nbformat": 4,
 "nbformat_minor": 2
}
